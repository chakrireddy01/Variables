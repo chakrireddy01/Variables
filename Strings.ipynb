{
 "cells": [
  {
   "cell_type": "markdown",
   "id": "f80b42ed-5cb2-4ebe-833f-1ca3338fa973",
   "metadata": {},
   "source": [
    "# Define strings?"
   ]
  },
  {
   "cell_type": "markdown",
   "id": "131cd536-0b29-4132-b1e9-073b76c8acfd",
   "metadata": {},
   "source": [
    "In programming, strings are sequences of characters used to represent text. They are typically enclosed in quotes, either single ('...') or double (\"...\") quotes, depending on the programming language. Strings can include letters, numbers, symbols, and whitespace."
   ]
  },
  {
   "cell_type": "markdown",
   "id": "27d386dc-6dc0-4820-a9e6-80864a92e96d",
   "metadata": {},
   "source": [
    "# Representation of strings?\n"
   ]
  },
  {
   "cell_type": "markdown",
   "id": "1106e335-eab2-4fc6-9bd8-8e33ffa589db",
   "metadata": {},
   "source": [
    "Basic String Representation\n",
    "Using single or double quotes to create a string."
   ]
  },
  {
   "cell_type": "code",
   "execution_count": 1,
   "id": "82b67a75-8b1f-47b2-9a83-1e4a7f676fdb",
   "metadata": {},
   "outputs": [
    {
     "name": "stdout",
     "output_type": "stream",
     "text": [
      "Hello, World!\n",
      "Python is fun!\n"
     ]
    }
   ],
   "source": [
    "string1 = \"Hello, World!\"\n",
    "string2 = 'Python is fun!'\n",
    "print(string1)  # Output: Hello, World!\n",
    "print(string2)  # Output: Python is fun!\n"
   ]
  },
  {
   "cell_type": "markdown",
   "id": "2ae9a2da-a71c-4029-a6ea-2a6d96792b05",
   "metadata": {},
   "source": [
    "2. Multiline String\n",
    "Using triple quotes for a multiline string."
   ]
  },
  {
   "cell_type": "code",
   "execution_count": 9,
   "id": "caeaa088-a4a6-4a56-b442-51d12c889cc9",
   "metadata": {},
   "outputs": [
    {
     "name": "stdout",
     "output_type": "stream",
     "text": [
      "my name is lakkireddy chakradhar reddy.\n"
     ]
    }
   ],
   "source": [
    "multiline_string = \"\"\"my name is lakkireddy chakradhar reddy.\"\"\"\n",
    "print(multiline_string)\n",
    "# Output: lakkireddy chakradhar reddy\n",
    "#.\n"
   ]
  },
  {
   "cell_type": "markdown",
   "id": "953d4bba-45d8-4455-afc0-410195f50480",
   "metadata": {},
   "source": [
    "3. String Concatenation\n",
    "Concatenating two strings using the + operator."
   ]
  },
  {
   "cell_type": "code",
   "execution_count": 10,
   "id": "04bda852-2003-403b-bfc3-863b88fa5b9a",
   "metadata": {},
   "outputs": [
    {
     "name": "stdout",
     "output_type": "stream",
     "text": [
      "chakri09reddy\n"
     ]
    }
   ],
   "source": [
    "first_part = \"chakri\"\n",
    "second_part = \"reddy\"\n",
    "combined_string = first_part + \"09\" + second_part\n",
    "print(combined_string)  # Output: chakri reddy\n"
   ]
  },
  {
   "cell_type": "markdown",
   "id": "1254f742-0eca-4268-a589-6aaf32e30288",
   "metadata": {},
   "source": [
    "4. Escape Characters in Strings\n",
    "Using escape sequences like \\n for newlines or \\t for tabs."
   ]
  },
  {
   "cell_type": "code",
   "execution_count": 5,
   "id": "fe853931-1b75-477a-92db-76bd19ef687f",
   "metadata": {},
   "outputs": [
    {
     "name": "stdout",
     "output_type": "stream",
     "text": [
      "Line 1\n",
      "Line 2\n",
      "\tIndented Line\n"
     ]
    }
   ],
   "source": [
    "string_with_escape = \"Line 1\\nLine 2\\n\\tIndented Line\"\n",
    "print(string_with_escape)\n",
    "# Output:\n",
    "# Line 1\n",
    "# Line 2\n",
    "#     Indented Line\n"
   ]
  },
  {
   "cell_type": "markdown",
   "id": "d6a702b0-6ef8-4e8a-b584-4073f90923d4",
   "metadata": {},
   "source": [
    "\n",
    "# Apply string operator examples for each 5 times to repetition"
   ]
  },
  {
   "cell_type": "code",
   "execution_count": null,
   "id": "1525f40c-da2e-4ea9-ac89-592b7bbd3bb1",
   "metadata": {},
   "outputs": [],
   "source": [
    "1. Concatenation (+ Operator)\n",
    "Concatenating a string five times in a loop."
   ]
  },
  {
   "cell_type": "code",
   "execution_count": 8,
   "id": "ac6d3ec7-4036-4bb8-83a9-874e43c4436e",
   "metadata": {},
   "outputs": [
    {
     "name": "stdout",
     "output_type": "stream",
     "text": [
      "mumbai indians mumbai indians mumbai indians mumbai indians mumbai indians \n"
     ]
    }
   ],
   "source": [
    "base_string = \"mumbai indians\"\n",
    "result = \"\"\n",
    "for i in range(5):\n",
    "    result += base_string + \" \"\n",
    "print(result)  # Output:  mumbai indians mumbai indians mumbai indians mumbai indians mumbai indians \n",
    "\n"
   ]
  },
  {
   "cell_type": "code",
   "execution_count": 13,
   "id": "deb2431a-fbd5-497a-b62f-7015ab418979",
   "metadata": {},
   "outputs": [
    {
     "name": "stdout",
     "output_type": "stream",
     "text": [
      "Count: 0\n",
      "Count: 1\n",
      "Count: 2\n",
      "Count: 3\n",
      "Count: 4\n"
     ]
    }
   ],
   "source": [
    "for i in range(5):\n",
    "    result = \"Count: \" + str(i)\n",
    "    print(result)\n",
    "# Output:\n",
    "# Count: 0\n",
    "# Count: 1\n",
    "# Count: 2\n",
    "# Count: 3\n",
    "# Count: 4\n"
   ]
  },
  {
   "cell_type": "code",
   "execution_count": 14,
   "id": "c3a88614-e3d2-4b87-8caf-514a9301aa4c",
   "metadata": {},
   "outputs": [
    {
     "name": "stdout",
     "output_type": "stream",
     "text": [
      "Hi, Allu arjun bhAAI!\n",
      "Hi, Allu arjun bhAAI!\n",
      "Hi, Allu arjun bhAAI!\n",
      "Hi, Allu arjun bhAAI!\n",
      "Hi, Allu arjun bhAAI!\n"
     ]
    }
   ],
   "source": [
    "name = \"Allu arjun bhAAI\"\n",
    "for i in range(5):\n",
    "    greeting = \"Hi, \" + name + \"!\"\n",
    "    print(greeting)\n",
    "\n"
   ]
  },
  {
   "cell_type": "code",
   "execution_count": 15,
   "id": "4fb9361c-73e1-4f72-9d61-58494ee6aebe",
   "metadata": {},
   "outputs": [
    {
     "name": "stdout",
     "output_type": "stream",
     "text": [
      "Good Morning\n",
      "Good Morning\n",
      "Good Morning\n",
      "Good Morning\n",
      "Good Morning\n"
     ]
    }
   ],
   "source": [
    "word1 = \"Good\"\n",
    "word2 = \"Morning\"\n",
    "for i in range(5):\n",
    "    message = word1 + \" \" + word2\n",
    "    print(message)\n",
    "\n"
   ]
  },
  {
   "cell_type": "code",
   "execution_count": 16,
   "id": "2ff85a30-291d-4cd1-9b43-cd9036d71480",
   "metadata": {},
   "outputs": [
    {
     "name": "stdout",
     "output_type": "stream",
     "text": [
      "Number: 0\n",
      "Number: 1\n",
      "Number: 2\n",
      "Number: 3\n",
      "Number: 4\n"
     ]
    }
   ],
   "source": [
    "for i in range(5):\n",
    "    combined_string = \"Number: \" + str(i)\n",
    "    print(combined_string)\n",
    "\n"
   ]
  },
  {
   "cell_type": "code",
   "execution_count": null,
   "id": "7dac7175-7cf3-4eb8-bc71-4aca9a506879",
   "metadata": {},
   "outputs": [],
   "source": [
    "2. Repetition (* Operator)\n",
    "Using the multiplication operator to repeat a string five times."
   ]
  },
  {
   "cell_type": "code",
   "execution_count": 12,
   "id": "14743c7a-e2c3-4456-b4ea-bd5b2325e994",
   "metadata": {},
   "outputs": [
    {
     "name": "stdout",
     "output_type": "stream",
     "text": [
      "devara devara devara devara devara \n"
     ]
    }
   ],
   "source": [
    "base_string = \"devara \"\n",
    "result = base_string * 5\n",
    "print(result)  # Output: devara devara devara devara devara \n"
   ]
  },
  {
   "cell_type": "code",
   "execution_count": 18,
   "id": "34b4873a-af99-4706-8beb-f5a506959f88",
   "metadata": {},
   "outputs": [
    {
     "name": "stdout",
     "output_type": "stream",
     "text": [
      " I told you Go! \n",
      " I told you Go!  I told you Go! \n",
      " I told you Go!  I told you Go!  I told you Go! \n",
      " I told you Go!  I told you Go!  I told you Go!  I told you Go! \n",
      " I told you Go!  I told you Go!  I told you Go!  I told you Go!  I told you Go! \n"
     ]
    }
   ],
   "source": [
    "phrase = \" I told you Go! \"\n",
    "for i in range(5):\n",
    "    print(phrase * (i+1))\n"
   ]
  },
  {
   "cell_type": "code",
   "execution_count": 20,
   "id": "f9bae5ef-f45c-43a2-b155-0f58508f2b22",
   "metadata": {},
   "outputs": [
    {
     "name": "stdout",
     "output_type": "stream",
     "text": [
      "*\n",
      "**\n",
      "***\n",
      "****\n",
      "*****\n"
     ]
    }
   ],
   "source": [
    "char = \"*\"\n",
    "for i in range(5):\n",
    "    print(char * (i+1))\n",
    "\n"
   ]
  },
  {
   "cell_type": "code",
   "execution_count": 23,
   "id": "3ace0dea-9a43-4fdd-a055-26c1ad96cd2f",
   "metadata": {},
   "outputs": [
    {
     "name": "stdout",
     "output_type": "stream",
     "text": [
      "420\n",
      "420420\n",
      "420420420\n",
      "420420420420\n",
      "420420420420420\n"
     ]
    }
   ],
   "source": [
    "number_str = \"420\"\n",
    "for i in range(5):\n",
    "    print(number_str * (i+1))\n"
   ]
  },
  {
   "cell_type": "code",
   "execution_count": 24,
   "id": "82739679-8a41-47a1-aea6-9fe9dc8a0aa3",
   "metadata": {},
   "outputs": [
    {
     "name": "stdout",
     "output_type": "stream",
     "text": [
      "1: Repeat \n",
      "2: Repeat Repeat \n",
      "3: Repeat Repeat Repeat \n",
      "4: Repeat Repeat Repeat Repeat \n",
      "5: Repeat Repeat Repeat Repeat Repeat \n"
     ]
    }
   ],
   "source": [
    "string = \"Repeat \"\n",
    "for i in range(5):\n",
    "    print(f\"{i+1}: {string * (i+1)}\")\n",
    "# Output:\n",
    "# 1: Repeat \n",
    "# 2: Repeat Repeat \n",
    "# 3: Repeat Repeat Repeat \n",
    "# 4: Repeat Repeat Repeat Repeat \n",
    "# 5: Repeat Repeat Repeat Repeat Repeat \n"
   ]
  },
  {
   "cell_type": "markdown",
   "id": "987b2b8a-ac6d-4b94-9cac-99b312c957dd",
   "metadata": {},
   "source": [
    "# Create a string, take a paragraph access index 21,47,105,129,201,241,311,395,409,418?"
   ]
  },
  {
   "cell_type": "code",
   "execution_count": 27,
   "id": "13bc4ebc-0df1-45d9-883c-701e776d60b0",
   "metadata": {},
   "outputs": [
    {
     "name": "stdout",
     "output_type": "stream",
     "text": [
      "o\n",
      "e\n",
      "n\n",
      "t\n",
      " \n",
      "t\n",
      "f\n",
      "a\n",
      "t\n",
      "i\n"
     ]
    }
   ],
   "source": [
    "# Step 1: Store the paragraph as a string\n",
    "paragraph = \"\"\"\n",
    "The world of technology has rapidly evolved over the past few decades, transforming how we live, work, and interact. From the introduction of the personal computer to the explosion of the internet, we have witnessed a digital revolution that has changed the face of nearly every industry. One of the most significant advancements has been the rise of artificial intelligence (AI) and machine learning. These technologies have given machines the ability to learn from data, make decisions, and perform tasks that previously required human intervention. Whether it's recommending products online, predicting diseases in healthcare, or even driving cars autonomously, AI is becoming an integral part of everyday life.\n",
    "\n",
    "Robotics is another fascinating area that has made tremendous strides in recent years. What was once considered the realm of science fiction is now a reality, with robots being used in manufacturing, healthcare, and even households. Robots equipped with advanced sensors and AI are able to perform delicate tasks like surgery, while industrial robots can assemble cars with unmatched precision and speed. The combination of robotics and AI, often referred to as \"cognitive robotics,\" is pushing the boundaries of what machines can achieve, leading to a future where robots will not only assist but also collaborate with humans in complex tasks.\n",
    "\n",
    "The internet of things (IoT) has also played a pivotal role in modern technological advancements. By connecting everyday objects to the internet, IoT allows for a more integrated and efficient world. Smart homes, for instance, allow people to control lighting, temperature, and security systems remotely using their smartphones. In the industrial sector, IoT devices monitor machinery, predict failures, and improve efficiency. This connectivity extends to cities as well, where smart infrastructure improves transportation, energy usage, and waste management. The IoT is revolutionizing the way we interact with the physical world, making it smarter, more efficient, and more responsive to our needs.\n",
    "\n",
    "Another transformative technology is blockchain, initially made famous by cryptocurrencies like Bitcoin. Blockchain is essentially a decentralized, distributed ledger that ensures transparency and security in transactions. It has applications far beyond digital currency, from securing voting systems to tracking supply chains and intellectual property rights. The use of blockchain technology in finance, healthcare, and even government has the potential to enhance security, reduce fraud, and build trust in digital systems. As businesses and governments recognize its benefits, blockchain is likely to become a staple in the infrastructure of tomorrow's digital economy.\n",
    "\n",
    "While these technologies hold great promise, they also present challenges. Ethical concerns regarding privacy, security, and job displacement need to be addressed as AI and automation take over more tasks traditionally performed by humans. As machines become more intelligent, we must carefully consider how to balance innovation with ethical responsibility. Governments, businesses, and academia need to collaborate to create guidelines that ensure technological advancements benefit society as a whole, rather than exacerbating inequality.\n",
    "\"\"\"\n",
    "\n",
    "# Step 2: Access specific characters using indexing\n",
    "\n",
    "print(paragraph[21])  \n",
    "print(paragraph[47])  \n",
    "print(paragraph[105]) \n",
    "print(paragraph[129])  \n",
    "print(paragraph[201])  \n",
    "print(paragraph[241])  \n",
    "print(paragraph[311])  \n",
    "print(paragraph[395])  \n",
    "print(paragraph[409])  \n",
    "print(paragraph[418])  \n",
    "\n",
    "\n"
   ]
  },
  {
   "cell_type": "markdown",
   "id": "291dfd69-592b-48aa-aeca-3d7a7f1dd921",
   "metadata": {},
   "source": [
    "# slicing operators 5 examples each?"
   ]
  },
  {
   "cell_type": "code",
   "execution_count": 28,
   "id": "9c5d6e83-ab39-447b-9f42-2896fca00e23",
   "metadata": {},
   "outputs": [
    {
     "name": "stdout",
     "output_type": "stream",
     "text": [
      "llo,\n",
      "Pytho\n",
      "ience\n",
      "ificia\n",
      "ne Learning\n"
     ]
    }
   ],
   "source": [
    "# Basic Slicing Examples\n",
    "text = \"Hello, World!\"\n",
    "print(text[2:6])  # Output: llo,\n",
    "\n",
    "text = \"Python Programming\"\n",
    "print(text[:5])  # Output: Python\n",
    "\n",
    "text = \"Data Science\"\n",
    "print(text[7:])  # Output: Science\n",
    "\n",
    "text = \"Artificial Intelligence\"\n",
    "print(text[3:9])  # Output: ifici\n",
    "\n",
    "text = \"Machine Learning\"\n",
    "print(text[5:])  # Output: ine Learning\n"
   ]
  },
  {
   "cell_type": "code",
   "execution_count": 29,
   "id": "976592b4-cad0-4001-a99f-7558bd7c2c0a",
   "metadata": {},
   "outputs": [
    {
     "name": "stdout",
     "output_type": "stream",
     "text": [
      "Pormi\n",
      "Scgxps\n",
      "o lc\n",
      "esreveR\n",
      "giiSpt\n"
     ]
    }
   ],
   "source": [
    "# Slicing with Step Examples\n",
    "text = \"Programming\"\n",
    "print(text[0:10:2])  # Output: Prgaig\n",
    "\n",
    "text = \"Slicing Examples\"\n",
    "print(text[::3])  # Output: Sxme\n",
    "\n",
    "text = \"Python Slicing\"\n",
    "print(text[4:12:2])  # Output: o  i\n",
    "\n",
    "text = \"Reverse\"\n",
    "print(text[::-1])  # Output: esreveR\n",
    "\n",
    "text = \"Step Slicing\"\n",
    "print(text[::-2])  # Output: gniclS tep"
   ]
  },
  {
   "cell_type": "code",
   "execution_count": 30,
   "id": "40d212f0-5729-4d57-a0ee-dc922fec83aa",
   "metadata": {},
   "outputs": [
    {
     "name": "stdout",
     "output_type": "stream",
     "text": [
      "ding\n",
      "e Lea\n",
      "Artificial Intel\n",
      " Analysis\n",
      "giiSdca\n"
     ]
    }
   ],
   "source": [
    "# Slicing with Negative Indices Examples\n",
    "text = \"Python Coding\"\n",
    "print(text[-4:])  # Output: Coding\n",
    "\n",
    "text = \"Machine Learning\"\n",
    "print(text[-10:-5])  # Output: Lear\n",
    "\n",
    "text = \"Artificial Intelligence\"\n",
    "print(text[:-7])  # Output: Artificial Intellig\n",
    "\n",
    "text = \"Data Analysis\"\n",
    "print(text[-9:])  # Output: Analysis\n",
    "\n",
    "text = \"Advanced Slicing\"\n",
    "print(text[-1:-15:-2])  # Output: gnScv"
   ]
  },
  {
   "cell_type": "code",
   "execution_count": 31,
   "id": "ed5f61a9-887f-4a9d-8b5f-489c80429115",
   "metadata": {},
   "outputs": [
    {
     "name": "stdout",
     "output_type": "stream",
     "text": [
      "tarol\n",
      "Middle slice: cial Intel\n",
      "a\n",
      "tSe\n",
      "immargorP\n"
     ]
    }
   ],
   "source": [
    "# Combining Slicing with Indexes Examples\n",
    "text = \"Exploration\"\n",
    "print(text[3:8][::-1])  # Output: ralo\n",
    "\n",
    "text = \"Artificial Intelligence\"\n",
    "middle = text[6:16]\n",
    "print(\"Middle slice: \" + middle)  # Output: Middle slice: icial Int\n",
    "\n",
    "text = \"String Manipulation\"\n",
    "print(text[7:14][1])  # Output: n\n",
    "\n",
    "text = \"Data Science\"\n",
    "print(text[2:11:3])  # Output: a c\n",
    "\n",
    "text = \"Python Programming\"\n",
    "print(text[7:16][::-1])  # Output: gnir"
   ]
  },
  {
   "cell_type": "markdown",
   "id": "40a52b80-88ef-4937-b1e5-743f02b6e7fd",
   "metadata": {},
   "source": [
    "# explain string format and give 3 examples each?\n"
   ]
  },
  {
   "cell_type": "code",
   "execution_count": null,
   "id": "d485659f-866d-4be5-9952-0b0ca6d83271",
   "metadata": {},
   "outputs": [],
   "source": [
    "1)Old-Style String Formatting (Using %)\n",
    "This method uses % to format strings. It is an older style but still widely used."
   ]
  },
  {
   "cell_type": "code",
   "execution_count": 32,
   "id": "db89e5da-763b-4ffd-a7a2-19cd588b3b9c",
   "metadata": {},
   "outputs": [
    {
     "name": "stdout",
     "output_type": "stream",
     "text": [
      "Project: Robot Arm, Completion Year: 2024\n",
      "Model: DeepNet, Accuracy: 92.50%\n",
      "Current Stage: Prototype, Progress: 75%\n"
     ]
    }
   ],
   "source": [
    "# Example 1: Displaying project details\n",
    "project_name = \"Robot Arm\"\n",
    "completion_year = 2024\n",
    "formatted_string = \"Project: %s, Completion Year: %d\" % (project_name, completion_year)\n",
    "print(formatted_string)  \n",
    "\n",
    "# Example 2: Showing progress in machine learning\n",
    "model_name = \"DeepNet\"\n",
    "accuracy = 92.5\n",
    "formatted_string = \"Model: %s, Accuracy: %.2f%%\" % (model_name, accuracy)\n",
    "print(formatted_string)  \n",
    "\n",
    "# Example 3: Reporting on robotics project stages\n",
    "stage = \"Prototype\"\n",
    "progress = 75\n",
    "formatted_string = \"Current Stage: %s, Progress: %d%%\" % (stage, progress)\n",
    "print(formatted_string)  "
   ]
  },
  {
   "cell_type": "markdown",
   "id": "508ef508-761a-43fc-804a-701775a5d28e",
   "metadata": {},
   "source": [
    "2. str.format() Method\n",
    "Introduced in Python 2.6/3.0, this method allows more flexibility with positional and keyword arguments.\n",
    "\"string {}\".format(values) represented."
   ]
  },
  {
   "cell_type": "code",
   "execution_count": 36,
   "id": "61c6f941-ba1e-4bd8-93da-1d4a2504dbc6",
   "metadata": {},
   "outputs": [
    {
     "name": "stdout",
     "output_type": "stream",
     "text": [
      "Project Name: Reddy, Duration: 18 months\n",
      "Model: Neural Network, Precision: 89.7%\n",
      "System: Vision System, Status: Operational, Errors Found: 3\n"
     ]
    }
   ],
   "source": [
    "# Example 1: Detailed robotics project report\n",
    "project_name = \"Reddy\"\n",
    "duration_months = 18\n",
    "formatted_string = \"Project Name: {}, Duration: {} months\".format(project_name, duration_months)\n",
    "print(formatted_string)  \n",
    "\n",
    "# Example 2: Machine learning model evaluation\n",
    "model_name = \"Neural Network\"\n",
    "precision = 89.7\n",
    "formatted_string = \"Model: {0}, Precision: {1:.1f}%\".format(model_name, precision)\n",
    "print(formatted_string) \n",
    "\n",
    "# Example 3: Robotics system integration status\n",
    "system_name = \"Vision System\"\n",
    "status = \"Operational\"\n",
    "errors = 3\n",
    "formatted_string = \"System: {system_name}, Status: {status}, Errors Found: {errors}\".format(system_name=system_name, status=status, errors=errors)\n",
    "print(formatted_string)  "
   ]
  },
  {
   "cell_type": "code",
   "execution_count": null,
   "id": "2c973321-91a6-4914-b126-1681af052b50",
   "metadata": {},
   "outputs": [],
   "source": [
    "3) f-Strings (Formatted String Literals)\n",
    "Introduced in Python 3.6, f-strings provide a way to embed expressions inside string literals, using {} braces.\n",
    "f\"string {expression}\""
   ]
  },
  {
   "cell_type": "code",
   "execution_count": 35,
   "id": "035ed1b1-4c75-44c5-a53d-12734741f7aa",
   "metadata": {},
   "outputs": [
    {
     "name": "stdout",
     "output_type": "stream",
     "text": [
      "Research Topic: AI in Robotics, Papers Published: 5\n",
      "Model: X-Robot 3000, Battery Life: 24 hours\n",
      "System Accuracy: 95.3%, Training Time: 12 hours\n"
     ]
    }
   ],
   "source": [
    "# Example 1: Reporting on AI research progress\n",
    "research_topic = \"AI in Robotics\"\n",
    "papers_published = 5\n",
    "formatted_string = f\"Research Topic: {research_topic}, Papers Published: {papers_published}\"\n",
    "print(formatted_string)  \n",
    "\n",
    "# Example 2: Displaying robot specifications\n",
    "robot_model = \"X-Robot 3000\"\n",
    "battery_life = 24  # in hours\n",
    "formatted_string = f\"Model: {robot_model}, Battery Life: {battery_life} hours\"\n",
    "print(formatted_string)  \n",
    "\n",
    "# Example 3: Showing performance metrics of an AI system\n",
    "accuracy = 95.3\n",
    "training_time = 12  # in hours\n",
    "formatted_string = f\"System Accuracy: {accuracy:.1f}%, Training Time: {training_time} hours\"\n",
    "print(formatted_string)  "
   ]
  },
  {
   "cell_type": "markdown",
   "id": "d11d6b1b-155a-4595-b39a-7be534041ce0",
   "metadata": {},
   "source": [
    "# String methods with each 1 example.\n"
   ]
  },
  {
   "cell_type": "code",
   "execution_count": 39,
   "id": "c6de2322-0936-471e-a30b-a18d657e67ab",
   "metadata": {},
   "outputs": [
    {
     "name": "stdout",
     "output_type": "stream",
     "text": [
      "Uppercase: ROBOTICS\n",
      "Lowercase: artificial intelligence\n",
      "Capitalized: Deep learning\n",
      "Title: Machine Learning Applications\n",
      "Stripped: 'robotics research'\n",
      "Replaced: robotic hand\n",
      "Split: ['robotics', 'AI', 'and automation']\n",
      "Joined: AI in robotics\n",
      "Find: 11\n",
      "Formatted: The robot version is 2\n",
      "Starts with 'machine': True\n",
      "Ends with 'ics': True\n"
     ]
    }
   ],
   "source": [
    "# 1. str.upper()\n",
    "text = \"robotics\"\n",
    "uppercase_text = text.upper()\n",
    "print(\"Uppercase:\", uppercase_text)  \n",
    "\n",
    "# 2. str.lower()\n",
    "text = \"ARTIFICIAL INTELLIGENCE\"\n",
    "lowercase_text = text.lower()\n",
    "print(\"Lowercase:\", lowercase_text) \n",
    "\n",
    "# 3. str.capitalize()\n",
    "text = \"deep learning\"\n",
    "capitalized_text = text.capitalize()\n",
    "print(\"Capitalized:\", capitalized_text) \n",
    "\n",
    "# 4. str.title()\n",
    "text = \"machine learning applications\"\n",
    "title_text = text.title()\n",
    "print(\"Title:\", title_text)  \n",
    "\n",
    "# 5. str.strip()\n",
    "text = \"  robotics research  \"\n",
    "stripped_text = text.strip()\n",
    "print(\"Stripped:\", f\"'{stripped_text}'\")  \n",
    "\n",
    "# 6. str.replace(old, new)\n",
    "text = \"robotic arm\"\n",
    "replaced_text = text.replace(\"arm\", \"hand\")\n",
    "print(\"Replaced:\", replaced_text)  \n",
    "# 7. str.split(separator)\n",
    "text = \"robotics, AI, and automation\"\n",
    "split_text = text.split(\", \")\n",
    "print(\"Split:\", split_text)  \n",
    "\n",
    "# 8. str.join(iterable)\n",
    "words = [\"AI\", \"in\", \"robotics\"]\n",
    "joined_text = \" \".join(words)\n",
    "print(\"Joined:\", joined_text)  \n",
    "\n",
    "# 9. str.find(substring)\n",
    "text = \"artificial intelligence\"\n",
    "index = text.find(\"intelligence\")\n",
    "print(\"Find:\", index) \n",
    "\n",
    "# 10. str.format()\n",
    "name = \"robot\"\n",
    "version = 2\n",
    "formatted_string = \"The {} version is {}\".format(name, version)\n",
    "print(\"Formatted:\", formatted_string)  \n",
    "\n",
    "# 11. str.startswith(prefix)\n",
    "text = \"machine learning\"\n",
    "starts_with = text.startswith(\"machine\")\n",
    "print(\"Starts with 'machine':\", starts_with) \n",
    "\n",
    "# 12. str.endswith(suffix)\n",
    "text = \"robotics\"\n",
    "ends_with = text.endswith(\"ics\")\n",
    "print(\"Ends with 'ics':\", ends_with) "
   ]
  },
  {
   "cell_type": "code",
   "execution_count": null,
   "id": "3d0b587c-6f6e-4e97-819e-0a1a97bd780d",
   "metadata": {},
   "outputs": [],
   "source": []
  }
 ],
 "metadata": {
  "kernelspec": {
   "display_name": "Python 3 (ipykernel)",
   "language": "python",
   "name": "python3"
  },
  "language_info": {
   "codemirror_mode": {
    "name": "ipython",
    "version": 3
   },
   "file_extension": ".py",
   "mimetype": "text/x-python",
   "name": "python",
   "nbconvert_exporter": "python",
   "pygments_lexer": "ipython3",
   "version": "3.12.2"
  }
 },
 "nbformat": 4,
 "nbformat_minor": 5
}
