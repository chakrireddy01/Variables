{
 "cells": [
  {
   "cell_type": "markdown",
   "id": "b0c16807",
   "metadata": {},
   "source": [
    "# Python Operators\n",
    "In this notebook, we will define what operators are in Python and list every type of operator with 10 examples for each."
   ]
  },
  {
   "cell_type": "markdown",
   "id": "68f02735",
   "metadata": {},
   "source": [
    "## What is an Operator?\n",
    "An operator in Python is a symbol that performs a specific operation on one or more operands (values or variables). Python has different types of operators, and they can be classified as follows:\n",
    "- Arithmetic Operators\n",
    "- Assignment Operators\n",
    "- Comparison Operators\n",
    "- Logical Operators\n",
    "- Bitwise Operators\n",
    "- Membership Operators\n",
    "- Identity Operators\n"
   ]
  },
  {
   "cell_type": "markdown",
   "id": "2310dcf1",
   "metadata": {},
   "source": [
    "### Arithmetic Operators"
   ]
  },
  {
   "cell_type": "code",
   "execution_count": null,
   "id": "e4019199",
   "metadata": {},
   "outputs": [],
   "source": [
    "a = 10\n",
    "b = 5\n",
    "result = a + b  # Addition\n",
    "result = a - b  # Subtraction\n",
    "result = a * b  # Multiplication\n",
    "result = a / b  # Division\n",
    "result = a % b  # Modulus\n",
    "result = a ** b  # Exponentiation\n",
    "result = a // b  # Floor division\n",
    "c = -a  # Negation\n",
    "result = a + (b * 3)  # Combination of operators\n",
    "result = (a * b) / (b - 2)  # Nested operations"
   ]
  },
  {
   "cell_type": "markdown",
   "id": "ead03bb0",
   "metadata": {},
   "source": [
    "### Assignment Operators"
   ]
  },
  {
   "cell_type": "code",
   "execution_count": null,
   "id": "944c4a3a",
   "metadata": {},
   "outputs": [],
   "source": [
    "a = 5  # Simple assignment\n",
    "a += 3  # Add and assign\n",
    "a -= 2  # Subtract and assign\n",
    "a *= 4  # Multiply and assign\n",
    "a /= 2  # Divide and assign\n",
    "a %= 3  # Modulus and assign\n",
    "a //= 2  # Floor divide and assign\n",
    "a **= 2  # Exponentiation and assign\n",
    "b = 6\n",
    "b &= 3  # Bitwise AND and assign\n",
    "b |= 1  # Bitwise OR and assign"
   ]
  },
  {
   "cell_type": "markdown",
   "id": "3bd441dd",
   "metadata": {},
   "source": [
    "### Comparison Operators"
   ]
  },
  {
   "cell_type": "code",
   "execution_count": null,
   "id": "cfa3dc12",
   "metadata": {},
   "outputs": [],
   "source": [
    "a = 10\n",
    "b = 5\n",
    "result = a == b  # Equal to\n",
    "result = a != b  # Not equal to\n",
    "result = a > b  # Greater than\n",
    "result = a < b  # Less than\n",
    "result = a >= b  # Greater than or equal to\n",
    "result = a <= b  # Less than or equal to\n",
    "result = a == 10  # Comparing with a constant\n",
    "result = b == 5\n",
    "result = (a > b) and (b < 10)  # Using comparison with logical operators\n",
    "result = (a != b) or (a < 20)"
   ]
  },
  {
   "cell_type": "markdown",
   "id": "f51973c4",
   "metadata": {},
   "source": [
    "### Logical Operators"
   ]
  },
  {
   "cell_type": "code",
   "execution_count": null,
   "id": "3f754a9b",
   "metadata": {},
   "outputs": [],
   "source": [
    "a = True\n",
    "b = False\n",
    "result = a and b  # Logical AND\n",
    "result = a or b  # Logical OR\n",
    "result = not a  # Logical NOT\n",
    "x = 10\n",
    "y = 5\n",
    "result = (x > y) and (x < 20)  # Using AND\n",
    "result = (x == 10) or (y == 6)  # Using OR\n",
    "result = not (x == 10)  # Using NOT\n",
    "result = (x < 15) and (y > 3)\n",
    "result = (x >= 10) or (y <= 2)\n",
    "result = not (y != 5)\n",
    "result = (x == 10) and not (y == 4)"
   ]
  },
  {
   "cell_type": "markdown",
   "id": "84030a97",
   "metadata": {},
   "source": [
    "### Bitwise Operators"
   ]
  },
  {
   "cell_type": "code",
   "execution_count": null,
   "id": "412b4a48",
   "metadata": {},
   "outputs": [],
   "source": [
    "a = 6\n",
    "b = 2\n",
    "result = a & b  # Bitwise AND\n",
    "result = a | b  # Bitwise OR\n",
    "result = a ^ b  # Bitwise XOR\n",
    "result = ~a  # Bitwise NOT\n",
    "result = a << 1  # Bitwise left shift\n",
    "result = a >> 1  # Bitwise right shift\n",
    "result = b << 2  # Left shift b by 2\n",
    "result = b >> 2  # Right shift b by 2\n",
    "c = 12\n",
    "result = c & b  # Bitwise AND with another number\n",
    "result = c | b  # Bitwise OR with another number"
   ]
  },
  {
   "cell_type": "markdown",
   "id": "1c3b1c3b",
   "metadata": {},
   "source": [
    "### Membership Operators"
   ]
  },
  {
   "cell_type": "code",
   "execution_count": null,
   "id": "694538d1",
   "metadata": {},
   "outputs": [],
   "source": [
    "my_list = [1, 2, 3, 4]\n",
    "result = 2 in my_list  # in operator\n",
    "result = 5 in my_list\n",
    "result = 5 not in my_list\n",
    "my_string = 'hello'\n",
    "result = 'e' in my_string\n",
    "result = 'z' in my_string\n",
    "result = 'z' not in my_string\n",
    "my_dict = {'a': 1, 'b': 2}\n",
    "result = 'a' in my_dict  # in operator with dictionary\n",
    "result = 'c' not in my_dict\n",
    "result = 1 in my_dict.values()\n",
    "result = 3 not in my_dict.values()"
   ]
  },
  {
   "cell_type": "markdown",
   "id": "a998c4d4",
   "metadata": {},
   "source": [
    "### Identity Operators"
   ]
  },
  {
   "cell_type": "code",
   "execution_count": null,
   "id": "10a3b794",
   "metadata": {},
   "outputs": [],
   "source": [
    "a = 10\n",
    "b = 10\n",
    "result = a is b  # is operator\n",
    "result = a is not b\n",
    "x = [1, 2]\n",
    "y = [1, 2]\n",
    "result = x is y  # Lists with same content but different objects\n",
    "result = x is not y\n",
    "result = x == y  # Equality check\n",
    "z = x\n",
    "result = z is x  # Both refer to the same list\n",
    "result = z is not y\n",
    "my_string1 = 'hello'\n",
    "my_string2 = 'hello'\n",
    "result = my_string1 is my_string2  # String interning in Python\n",
    "result = (a + 1) is not b\n",
    "result = (a == 10) is True"
   ]
  }
 ],
 "metadata": {},
 "nbformat": 4,
 "nbformat_minor": 5
}
