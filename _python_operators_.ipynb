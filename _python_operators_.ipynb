{
 "cells": [
  {
   "cell_type": "markdown",
   "id": "1b94ee55",
   "metadata": {},
   "source": [
    "# Python Operators with Practical Examples\n",
    "This notebook provides practical examples of different types of Python operators along with their outputs.\n",
    "\n",
    "### Types of Operators:\n",
    "- Arithmetic Operators\n",
    "- Assignment Operators\n",
    "- Comparison Operators\n",
    "- Logical Operators\n",
    "- Bitwise Operators\n",
    "- Membership Operators\n",
    "- Identity Operators\n"
   ]
  },
  {
   "cell_type": "markdown",
   "id": "a7d058ae",
   "metadata": {},
   "source": [
    "### Arithmetic Operators"
   ]
  },
  {
   "cell_type": "code",
   "execution_count": null,
   "id": "451b328f",
   "metadata": {},
   "outputs": [],
   "source": [
    "a = 15\n",
    "b = 4\n",
    "result = a + b\n",
    "result  # Addition\n",
    "result = a - b\n",
    "result  # Subtraction\n",
    "result = a * b\n",
    "result  # Multiplication\n",
    "result = a / b\n",
    "result  # Division\n",
    "result = a % b\n",
    "result  # Modulus\n",
    "result = a ** b\n",
    "result  # Exponentiation\n",
    "result = a // b\n",
    "result  # Floor division\n",
    "result = -a\n",
    "result  # Negation\n",
    "result = (a * 3) + (b * 2)\n",
    "result  # Combination of operations\n",
    "result = (a + b) * (b - 1)\n",
    "result  # Nested operations"
   ]
  },
  {
   "cell_type": "markdown",
   "id": "16720af6",
   "metadata": {},
   "source": [
    "### Assignment Operators"
   ]
  },
  {
   "cell_type": "code",
   "execution_count": null,
   "id": "6ec094d8",
   "metadata": {},
   "outputs": [],
   "source": [
    "a = 10\n",
    "result = a\n",
    "result  # Simple assignment\n",
    "a += 5\n",
    "result = a\n",
    "result  # Add and assign\n",
    "a -= 3\n",
    "result = a\n",
    "result  # Subtract and assign\n",
    "a *= 2\n",
    "result = a\n",
    "result  # Multiply and assign\n",
    "a /= 4\n",
    "result = a\n",
    "result  # Divide and assign\n",
    "a %= 2\n",
    "result = a\n",
    "result  # Modulus and assign\n",
    "a = 10\n",
    "a //= 3\n",
    "result = a\n",
    "result  # Floor division and assign\n",
    "a **= 2\n",
    "result = a\n",
    "result  # Exponentiation and assign\n",
    "b = 6\n",
    "b &= 2\n",
    "result = b\n",
    "result  # Bitwise AND and assign\n",
    "b |= 1\n",
    "result = b\n",
    "result  # Bitwise OR and assign"
   ]
  },
  {
   "cell_type": "markdown",
   "id": "323585c0",
   "metadata": {},
   "source": [
    "### Comparison Operators"
   ]
  },
  {
   "cell_type": "code",
   "execution_count": null,
   "id": "a96210ac",
   "metadata": {},
   "outputs": [],
   "source": [
    "a = 10\n",
    "b = 5\n",
    "result = a == b\n",
    "result  # Equal to\n",
    "result = a != b\n",
    "result  # Not equal to\n",
    "result = a > b\n",
    "result  # Greater than\n",
    "result = a < b\n",
    "result  # Less than\n",
    "result = a >= b\n",
    "result  # Greater than or equal to\n",
    "result = a <= b\n",
    "result  # Less than or equal to\n",
    "result = a == 10\n",
    "result  # Equal to constant\n",
    "result = b == 5\n",
    "result  # Equal to constant\n",
    "result = (a > b) and (b < 10)\n",
    "result  # Comparison with logical operators\n",
    "result = (a != b) or (a < 20)\n",
    "result  # Comparison with OR"
   ]
  },
  {
   "cell_type": "markdown",
   "id": "a9d7a085",
   "metadata": {},
   "source": [
    "### Logical Operators"
   ]
  },
  {
   "cell_type": "code",
   "execution_count": null,
   "id": "9e03942b",
   "metadata": {},
   "outputs": [],
   "source": [
    "a = True\n",
    "b = False\n",
    "result = a and b\n",
    "result  # Logical AND\n",
    "result = a or b\n",
    "result  # Logical OR\n",
    "result = not a\n",
    "result  # Logical NOT\n",
    "x = 8\n",
    "y = 3\n",
    "result = (x > y) and (x < 20)\n",
    "result  # AND with numbers\n",
    "result = (x == 8) or (y == 4)\n",
    "result  # OR with numbers\n",
    "result = not (x == 8)\n",
    "result  # NOT with comparison\n",
    "result = (x < 10) and (y > 2)\n",
    "result  # Combining comparisons\n",
    "result = (x >= 8) or (y <= 3)\n",
    "result  # Combining OR comparisons\n",
    "result = not (y != 3)\n",
    "result  # Double negation\n",
    "result = (x == 8) and not (y == 4)\n",
    "result  # AND with NOT"
   ]
  },
  {
   "cell_type": "markdown",
   "id": "ec0f0a67",
   "metadata": {},
   "source": [
    "### Bitwise Operators"
   ]
  },
  {
   "cell_type": "code",
   "execution_count": null,
   "id": "fef03379",
   "metadata": {},
   "outputs": [],
   "source": [
    "a = 7\n",
    "b = 2\n",
    "result = a & b\n",
    "result  # Bitwise AND\n",
    "result = a | b\n",
    "result  # Bitwise OR\n",
    "result = a ^ b\n",
    "result  # Bitwise XOR\n",
    "result = ~a\n",
    "result  # Bitwise NOT\n",
    "result = a << 1\n",
    "result  # Bitwise left shift\n",
    "result = a >> 1\n",
    "result  # Bitwise right shift\n",
    "result = b << 2\n",
    "result  # Left shift\n",
    "result = b >> 2\n",
    "result  # Right shift\n",
    "c = 15\n",
    "result = c & b\n",
    "result  # Bitwise AND with different number\n",
    "result = c | b\n",
    "result  # Bitwise OR with different number"
   ]
  },
  {
   "cell_type": "markdown",
   "id": "1f398dac",
   "metadata": {},
   "source": [
    "### Membership Operators"
   ]
  },
  {
   "cell_type": "code",
   "execution_count": null,
   "id": "7cb7cce3",
   "metadata": {},
   "outputs": [],
   "source": [
    "my_list = [1, 2, 3, 4]\n",
    "result = 2 in my_list\n",
    "result  # Check if element in list\n",
    "result = 5 in my_list\n",
    "result  # Check if element not in list\n",
    "result = 5 not in my_list\n",
    "result  # Check not in\n",
    "my_string = 'hello'\n",
    "result = 'e' in my_string\n",
    "result  # Check in string\n",
    "result = 'z' in my_string\n",
    "result  # Check not in string\n",
    "result = 'z' not in my_string\n",
    "result  # Check not in\n",
    "my_dict = {'a': 1, 'b': 2}\n",
    "result = 'a' in my_dict\n",
    "result  # Key in dictionary\n",
    "result = 'c' not in my_dict\n",
    "result  # Key not in dictionary\n",
    "result = 1 in my_dict.values()\n",
    "result  # Value in dictionary values\n",
    "result = 3 not in my_dict.values()\n",
    "result  # Value not in dictionary values"
   ]
  },
  {
   "cell_type": "markdown",
   "id": "311d775e",
   "metadata": {},
   "source": [
    "### Identity Operators"
   ]
  },
  {
   "cell_type": "code",
   "execution_count": null,
   "id": "2cc63dc6",
   "metadata": {},
   "outputs": [],
   "source": [
    "a = 10\n",
    "b = 10\n",
    "result = a is b\n",
    "result  # Identity check (same object)\n",
    "result = a is not b\n",
    "result  # Identity not check\n",
    "x = [1, 2]\n",
    "y = [1, 2]\n",
    "result = x is y\n",
    "result  # Different list objects\n",
    "result = x is not y\n",
    "result  # Identity not check with lists\n",
    "result = x == y\n",
    "result  # Equality check (same content)\n",
    "z = x\n",
    "result = z is x\n",
    "result  # Same list object\n",
    "result = z is not y\n",
    "result  # Different objects check\n",
    "my_string1 = 'hello'\n",
    "my_string2 = 'hello'\n",
    "result = my_string1 is my_string2\n",
    "result  # String identity check\n",
    "result = (a + 1) is not b\n",
    "result  # Identity not check with expressions\n",
    "result = (a == 10) is True\n",
    "result  # Comparison with True"
   ]
  }
 ],
 "metadata": {},
 "nbformat": 4,
 "nbformat_minor": 5
}
