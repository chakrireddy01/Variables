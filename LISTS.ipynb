{
 "cells": [
  {
   "cell_type": "markdown",
   "id": "ddb6ebe2-328f-4d49-9c3b-71180e716c95",
   "metadata": {},
   "source": [
    "# WHAT IS LIST?"
   ]
  },
  {
   "cell_type": "markdown",
   "id": "0944572a-3d5d-45a6-9478-cd92edde7974",
   "metadata": {},
   "source": [
    "In programming, a list is a data structure used to store multiple items in a single variable. Lists are typically ordered, mutable (meaning you can change, add, or remove elements), and can hold items of different types"
   ]
  },
  {
   "cell_type": "markdown",
   "id": "40a81b6e-a1ca-4021-b68d-579ab9a56f2c",
   "metadata": {},
   "source": [
    "# key characteristics?"
   ]
  },
  {
   "cell_type": "markdown",
   "id": "cf75fd3a-9400-492a-9ae0-1620b33f69a4",
   "metadata": {},
   "source": [
    "Ordered: Elements in a list are stored in a specific order, and this order is maintained. Each element can be accessed by its index, starting from 0.\n",
    "\n",
    "Mutable: Lists can be changed after creation. You can modify, add, or remove elements from a list without creating a new one.\n",
    "\n",
    "Heterogeneous Elements: Lists can contain elements of different data types, including integers, floats, strings, or even other lists (nested lists).\n",
    "\n",
    "Indexable: Each element in a list can be accessed directly via its index (position in the list). Negative indexing is also allowed, where -1 refers to the last element, -2 to the second last, and so on."
   ]
  },
  {
   "cell_type": "markdown",
   "id": "9096528d-c6da-49a4-822e-62de72328f14",
   "metadata": {},
   "source": [
    "# Indexing:"
   ]
  },
  {
   "cell_type": "markdown",
   "id": "4c639460-e4ce-444b-a35d-4aacff752aa3",
   "metadata": {},
   "source": [
    "Indexing is the process of accessing individual elements in a list (or any sequence type) by their position, which is represented by an integer. In most programming languages like Python, indexing starts at 0, meaning the first element has an index of 0, the second element has an index of 1, and so on."
   ]
  },
  {
   "cell_type": "code",
   "execution_count": 1,
   "id": "6bca5424-ea1b-4fab-a314-0f53456c8676",
   "metadata": {},
   "outputs": [
    {
     "name": "stdout",
     "output_type": "stream",
     "text": [
      "20\n"
     ]
    }
   ],
   "source": [
    "my_list = [10, 20, 30, 40]\n",
    "print(my_list[1])  # Output: 20 (accessing the element at index 1)\n"
   ]
  },
  {
   "cell_type": "markdown",
   "id": "0e8bdcb4-2933-43e2-80ea-4e4f23aeb509",
   "metadata": {},
   "source": [
    "# Slicing:"
   ]
  },
  {
   "cell_type": "markdown",
   "id": "2d570bee-ed54-4d16-b248-8e07ea432239",
   "metadata": {},
   "source": [
    "Slicing is the process of extracting a subset of elements from a list (or any sequence type) by specifying a range of indices. The slice includes elements from the start index up to, but not including, the end index. You can also provide a step value to skip elements in the slice."
   ]
  },
  {
   "cell_type": "code",
   "execution_count": 2,
   "id": "df885e2c-33dd-4c15-92e4-ce130474a934",
   "metadata": {},
   "outputs": [
    {
     "name": "stdout",
     "output_type": "stream",
     "text": [
      "[20, 30, 40]\n"
     ]
    }
   ],
   "source": [
    "my_list = [10, 20, 30, 40, 50]\n",
    "print(my_list[1:4])  # Output: [20, 30, 40] (extracting elements from index 1 to 3)\n"
   ]
  },
  {
   "cell_type": "markdown",
   "id": "9700a58a-985f-488b-b53c-f4e3e6175876",
   "metadata": {},
   "source": [
    "# Common operations:\n",
    "Adding elements\n",
    "\n",
    "Removing elements\n",
    "\n",
    "Modifying elements\n",
    "\n",
    "Other operations (e.g., length, sorting, reversing) give me 10 examples of it parapharse this"
   ]
  },
  {
   "cell_type": "markdown",
   "id": "9e73414c-47a6-4bd4-ad07-2cd9045429e6",
   "metadata": {},
   "source": [
    "1. Adding Elements\n",
    "Append: Adds an element to the end of the list."
   ]
  },
  {
   "cell_type": "code",
   "execution_count": 3,
   "id": "ea974c3e-c72a-4789-85a3-cbe024786c4f",
   "metadata": {},
   "outputs": [
    {
     "name": "stdout",
     "output_type": "stream",
     "text": [
      "[1, 2, 3, 4]\n"
     ]
    }
   ],
   "source": [
    "my_list = [1, 2, 3]\n",
    "my_list.append(4)\n",
    "print(my_list)  # Output: [1, 2, 3, 4]\n"
   ]
  },
  {
   "cell_type": "code",
   "execution_count": 5,
   "id": "e18e9c6e-c8b6-44d6-8228-50cdddc2b5a2",
   "metadata": {},
   "outputs": [
    {
     "name": "stdout",
     "output_type": "stream",
     "text": [
      "[1, 10, 2, 3]\n"
     ]
    }
   ],
   "source": [
    "# Insert: Adds an element at a specified index.\n",
    "my_list = [1, 2, 3]\n",
    "my_list.insert(1, 10)\n",
    "print(my_list)  # Output: [1, 10, 2, 3]\n"
   ]
  },
  {
   "cell_type": "markdown",
   "id": "bad45a2f-7664-4729-b8d0-92760e438364",
   "metadata": {},
   "source": [
    " Removing Elements\n",
    "Remove: Removes the first occurrence of a specified value."
   ]
  },
  {
   "cell_type": "code",
   "execution_count": 6,
   "id": "f266bba9-d6b4-49f6-b5a7-650ee98a7cee",
   "metadata": {},
   "outputs": [
    {
     "name": "stdout",
     "output_type": "stream",
     "text": [
      "[1, 3, 2]\n"
     ]
    }
   ],
   "source": [
    "my_list = [1, 2, 3, 2]\n",
    "my_list.remove(2)\n",
    "print(my_list)  # Output: [1, 3, 2]\n"
   ]
  },
  {
   "cell_type": "markdown",
   "id": "0f45f035-197d-42b4-b14f-1d3158cc2b4d",
   "metadata": {},
   "source": [
    "Modifying Elements\n",
    "Update an Element by Index: Assigns a new value to a specific index."
   ]
  },
  {
   "cell_type": "code",
   "execution_count": 7,
   "id": "a4638e9a-8b0b-423c-944d-d01d7a56ff9f",
   "metadata": {},
   "outputs": [
    {
     "name": "stdout",
     "output_type": "stream",
     "text": [
      "[1, 20, 3]\n"
     ]
    }
   ],
   "source": [
    "my_list = [1, 2, 3]\n",
    "my_list[1] = 20\n",
    "print(my_list)  # Output: [1, 20, 3]\n"
   ]
  },
  {
   "cell_type": "markdown",
   "id": "18275bd6-8b67-439f-ba29-1a9e8e0f02c5",
   "metadata": {},
   "source": [
    "Other Operations\n",
    "Length: Returns the number of elements in the list."
   ]
  },
  {
   "cell_type": "code",
   "execution_count": 8,
   "id": "c8f2059d-e055-47de-a6b9-7d599c964731",
   "metadata": {},
   "outputs": [
    {
     "name": "stdout",
     "output_type": "stream",
     "text": [
      "3\n"
     ]
    }
   ],
   "source": [
    "my_list = [1, 2, 3]\n",
    "print(len(my_list))  # Output: 3\n"
   ]
  },
  {
   "cell_type": "markdown",
   "id": "5968d7a8-cd11-474c-b201-9f300a4f2e21",
   "metadata": {},
   "source": [
    "Sorting: Sorts the list in ascending order."
   ]
  },
  {
   "cell_type": "code",
   "execution_count": 9,
   "id": "218da87d-f269-4662-89bc-12ccb63f43f6",
   "metadata": {},
   "outputs": [
    {
     "name": "stdout",
     "output_type": "stream",
     "text": [
      "[1, 2, 3]\n"
     ]
    }
   ],
   "source": [
    "my_list = [3, 1, 2]\n",
    "my_list.sort()\n",
    "print(my_list)  # Output: [1, 2, 3]\n"
   ]
  },
  {
   "cell_type": "markdown",
   "id": "67952bd7-2480-48f4-bb93-0b724245e30e",
   "metadata": {},
   "source": [
    "Reversing: Reverses the order of the list."
   ]
  },
  {
   "cell_type": "code",
   "execution_count": 10,
   "id": "7c67f869-8e21-40ea-9649-a33b49bf6d24",
   "metadata": {},
   "outputs": [
    {
     "name": "stdout",
     "output_type": "stream",
     "text": [
      "[3, 2, 1]\n"
     ]
    }
   ],
   "source": [
    "my_list = [1, 2, 3]\n",
    "my_list.reverse()\n",
    "print(my_list)  # Output: [3, 2, 1]\n"
   ]
  },
  {
   "cell_type": "markdown",
   "id": "4da632b6-6677-46a0-8894-b13f75ef3846",
   "metadata": {},
   "source": [
    "Indexing to Find an Element: Finds the index of the first occurrence of an element."
   ]
  },
  {
   "cell_type": "code",
   "execution_count": 11,
   "id": "07852a8b-5692-4dcb-800c-8a532256a9fb",
   "metadata": {},
   "outputs": [
    {
     "name": "stdout",
     "output_type": "stream",
     "text": [
      "1\n"
     ]
    }
   ],
   "source": [
    "my_list = [1, 2, 3]\n",
    "index = my_list.index(2)\n",
    "print(index)  # Output: 1\n"
   ]
  },
  {
   "cell_type": "markdown",
   "id": "a2bd11aa-5d5d-4c94-9a50-be2b2d259bcb",
   "metadata": {},
   "source": [
    "# Concatenation\n",
    "Concatenation involves joining two or more lists together to create a single list. This can be achieved using the + operator or the extend() method."
   ]
  },
  {
   "cell_type": "markdown",
   "id": "5b2456f4-1233-4e08-99d2-a43191c11b45",
   "metadata": {},
   "source": [
    "Examples of Concatenation:\n",
    "Concatenating Two Lists:"
   ]
  },
  {
   "cell_type": "code",
   "execution_count": 12,
   "id": "6024da60-fb9c-4c25-bcc9-5586e140da4c",
   "metadata": {},
   "outputs": [
    {
     "name": "stdout",
     "output_type": "stream",
     "text": [
      "[1, 2, 3, 4, 5, 6]\n"
     ]
    }
   ],
   "source": [
    "list1 = [1, 2, 3]\n",
    "list2 = [4, 5, 6]\n",
    "result = list1 + list2\n",
    "print(result)  # Output: [1, 2, 3, 4, 5, 6]\n"
   ]
  },
  {
   "cell_type": "markdown",
   "id": "3b836c9c-b2d1-404b-86b5-e2098ab47ba5",
   "metadata": {},
   "source": [
    "Concatenating Multiple Lists:"
   ]
  },
  {
   "cell_type": "code",
   "execution_count": 13,
   "id": "7b54ee55-8ce8-41a4-9574-ad80fb64356d",
   "metadata": {},
   "outputs": [
    {
     "name": "stdout",
     "output_type": "stream",
     "text": [
      "[1, 2, 3, 4, 5, 6]\n"
     ]
    }
   ],
   "source": [
    "list1 = [1, 2]\n",
    "list2 = [3, 4]\n",
    "list3 = [5, 6]\n",
    "result = list1 + list2 + list3\n",
    "print(result)  # Output: [1, 2, 3, 4, 5, 6]\n"
   ]
  },
  {
   "cell_type": "markdown",
   "id": "33d51ec4-5ad9-4236-a79b-ff660baca4a3",
   "metadata": {},
   "source": [
    "Using extend() Method:"
   ]
  },
  {
   "cell_type": "code",
   "execution_count": 14,
   "id": "c59fdc79-cb0f-484e-b61c-532546967845",
   "metadata": {},
   "outputs": [
    {
     "name": "stdout",
     "output_type": "stream",
     "text": [
      "[1, 2, 3, 4, 5]\n"
     ]
    }
   ],
   "source": [
    "list1 = [1, 2, 3]\n",
    "list2 = [4, 5]\n",
    "list1.extend(list2)\n",
    "print(list1)  # Output: [1, 2, 3, 4, 5]\n"
   ]
  },
  {
   "cell_type": "markdown",
   "id": "ab5eb6c5-344b-43ae-aabc-e88af8f11473",
   "metadata": {},
   "source": [
    "Concatenating with Nested Lists:"
   ]
  },
  {
   "cell_type": "code",
   "execution_count": 15,
   "id": "c137e0f8-a804-45f8-990d-27dfc43aff73",
   "metadata": {},
   "outputs": [
    {
     "name": "stdout",
     "output_type": "stream",
     "text": [
      "[1, 2, [3, 4], [5, 6]]\n"
     ]
    }
   ],
   "source": [
    "list1 = [1, 2]\n",
    "list2 = [[3, 4], [5, 6]]\n",
    "result = list1 + list2\n",
    "print(result)  # Output: [1, 2, [3, 4], [5, 6]]\n"
   ]
  },
  {
   "cell_type": "markdown",
   "id": "57588732-dbaa-468a-89a5-1a4dfc6ecbc5",
   "metadata": {},
   "source": [
    "Merging Lists of Orders: Combine orders from two different days."
   ]
  },
  {
   "cell_type": "code",
   "execution_count": 16,
   "id": "48110756-925f-4f78-ab60-da7bc4273caa",
   "metadata": {},
   "outputs": [
    {
     "name": "stdout",
     "output_type": "stream",
     "text": [
      "['Order1', 'Order2', 'Order3', 'Order4']\n"
     ]
    }
   ],
   "source": [
    "orders_day1 = [\"Order1\", \"Order2\"]\n",
    "orders_day2 = [\"Order3\", \"Order4\"]\n",
    "all_orders = orders_day1 + orders_day2\n",
    "print(all_orders)  # Output: ['Order1', 'Order2', 'Order3', 'Order4']\n"
   ]
  },
  {
   "cell_type": "markdown",
   "id": "79ed9660-c19e-491a-8183-e54653403ffa",
   "metadata": {},
   "source": [
    "# Repetition\n",
    "Repetition involves repeating the elements of a list a specified number of times. This can be achieved using the * operator."
   ]
  },
  {
   "cell_type": "code",
   "execution_count": 18,
   "id": "6a691301-bc5f-4ec7-841f-f0e2045bc438",
   "metadata": {},
   "outputs": [
    {
     "name": "stdout",
     "output_type": "stream",
     "text": [
      "['Mon', 'Tue', 'Wed', 'Thu', 'Fri', 'Sat', 'Sun', 'Mon', 'Tue', 'Wed', 'Thu', 'Fri', 'Sat', 'Sun', 'Mon', 'Tue', 'Wed', 'Thu', 'Fri', 'Sat', 'Sun', 'Mon', 'Tue', 'Wed', 'Thu', 'Fri', 'Sat', 'Sun']\n"
     ]
    }
   ],
   "source": [
    "day_pattern = [\"Mon\", \"Tue\", \"Wed\", \"Thu\", \"Fri\", \"Sat\", \"Sun\"]\n",
    "weekly_calendar = day_pattern * 4  # Four weeks\n",
    "print(weekly_calendar)  # Output: ['Mon', 'Tue', 'Wed', 'Thu', 'Fri', 'Sat', 'Sun', 'Mon', 'Tue', 'Wed', 'Thu', 'Fri', 'Sat', 'Sun', 'Mon', 'Tue', 'Wed', 'Thu', 'Fri', 'Sat', 'Sun', 'Mon', 'Tue', 'Wed', 'Thu', 'Fri', 'Sat', 'Sun']\n"
   ]
  },
  {
   "cell_type": "code",
   "execution_count": 19,
   "id": "edc191ef-0b21-4ac3-827c-4d2bf00e49a0",
   "metadata": {},
   "outputs": [
    {
     "name": "stdout",
     "output_type": "stream",
     "text": [
      "['Error: File not found', 'Error: File not found', 'Error: File not found', 'Error: File not found', 'Error: File not found']\n"
     ]
    }
   ],
   "source": [
    "error_message = [\"Error: File not found\"]\n",
    "error_log = error_message * 5  # Five error logs\n",
    "print(error_log)  # Output: ['Error: File not found', 'Error: File not found', 'Error: File not found', 'Error: File not found', 'Error: File not found']\n"
   ]
  },
  {
   "cell_type": "code",
   "execution_count": 20,
   "id": "3c5b7a79-f8c7-462f-8ea3-d5085581b036",
   "metadata": {},
   "outputs": [
    {
     "name": "stdout",
     "output_type": "stream",
     "text": [
      "['How satisfied are you with our service?', 'How satisfied are you with our service?', 'How satisfied are you with our service?', 'How satisfied are you with our service?', 'How satisfied are you with our service?', 'How satisfied are you with our service?', 'How satisfied are you with our service?', 'How satisfied are you with our service?', 'How satisfied are you with our service?', 'How satisfied are you with our service?']\n"
     ]
    }
   ],
   "source": [
    "survey_question = [\"How satisfied are you with our service?\"]\n",
    "questions_for_survey = survey_question * 10  # One question per respondent\n",
    "print(questions_for_survey)  # Output: ['How satisfied are you with our service?', 'How satisfied are you with our service?', 'How satisfied are you with our service?', ..., 'How satisfied are you with our service?'] (10 times)\n"
   ]
  },
  {
   "cell_type": "code",
   "execution_count": 21,
   "id": "cac023f7-5940-45df-b725-3369de4f4f10",
   "metadata": {},
   "outputs": [
    {
     "name": "stdout",
     "output_type": "stream",
     "text": [
      "['Product A: $10', 'Product A: $10', 'Product A: $10']\n"
     ]
    }
   ],
   "source": [
    "product_listing = [\"Product A: $10\"]\n",
    "listings = product_listing * 3  # Three product listings\n",
    "print(listings)  # Output: ['Product A: $10', 'Product A: $10', 'Product A: $10']\n"
   ]
  },
  {
   "cell_type": "code",
   "execution_count": 22,
   "id": "cb6458d8-9156-43d8-8b6e-7cd0481c09f8",
   "metadata": {},
   "outputs": [
    {
     "name": "stdout",
     "output_type": "stream",
     "text": [
      "['Complete report', 'Team meeting', 'Project planning', 'Complete report', 'Team meeting', 'Project planning', 'Complete report', 'Team meeting', 'Project planning', 'Complete report', 'Team meeting', 'Project planning']\n"
     ]
    }
   ],
   "source": [
    "weekly_tasks = [\"Complete report\", \"Team meeting\", \"Project planning\"]\n",
    "monthly_tasks = weekly_tasks * 4  # Four weeks\n",
    "print(monthly_tasks)  # Output: ['Complete report', 'Team meeting', 'Project planning', 'Complete report', 'Team meeting', 'Project planning', ..., 'Complete report', 'Team meeting', 'Project planning'] (4 times)\n"
   ]
  },
  {
   "cell_type": "code",
   "execution_count": null,
   "id": "29445f6c-b195-46f4-b7df-f95d61a88a57",
   "metadata": {},
   "outputs": [],
   "source": []
  }
 ],
 "metadata": {
  "kernelspec": {
   "display_name": "Python 3 (ipykernel)",
   "language": "python",
   "name": "python3"
  },
  "language_info": {
   "codemirror_mode": {
    "name": "ipython",
    "version": 3
   },
   "file_extension": ".py",
   "mimetype": "text/x-python",
   "name": "python",
   "nbconvert_exporter": "python",
   "pygments_lexer": "ipython3",
   "version": "3.12.2"
  }
 },
 "nbformat": 4,
 "nbformat_minor": 5
}
