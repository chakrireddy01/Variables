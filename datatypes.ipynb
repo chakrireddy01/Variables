{
 "cells": [
  {
   "cell_type": "markdown",
   "id": "2010cdac-3e75-4fc9-964a-fa62fdf2a5a2",
   "metadata": {},
   "source": [
    "# Python Data types"
   ]
  },
  {
   "cell_type": "markdown",
   "id": "2fc4ea29-e7bd-439d-802e-478b1f18a352",
   "metadata": {},
   "source": [
    "A data type is a classification that specifies the type of value a variable can hold in a programming language. It defines the operations that can be performed on the data, the meaning of the data, and the way it is stored in memory. Common data types include integers, floating-point numbers, strings, and booleans."
   ]
  },
  {
   "cell_type": "markdown",
   "id": "55652dc5-9301-445e-b298-9cfc28e3e7f3",
   "metadata": {},
   "source": [
    "# Types of data types"
   ]
  },
  {
   "cell_type": "markdown",
   "id": "814a8991-c52a-4516-936c-531d1ca593e5",
   "metadata": {},
   "source": [
    "1.Basic Datatypes\n",
    "2.Advanced Datatypes"
   ]
  },
  {
   "cell_type": "markdown",
   "id": "ca9c60ba-c987-4c8d-8f68-da1c2b081a52",
   "metadata": {},
   "source": [
    "# Basic Datatypes"
   ]
  },
  {
   "cell_type": "code",
   "execution_count": null,
   "id": "cd42ddc5-456b-4a21-8c87-7c8e0ad27522",
   "metadata": {},
   "outputs": [],
   "source": [
    "The basic data types in Python are:\n",
    "int: Represents whole numbers, e.g., 10, -3.\n",
    "float: Represents numbers with decimals, e.g., 3.14, -0.001.\n",
    "complex:A complex data type in Python represents a number with both a real part and an imaginary part, expressed as a + bj, where a is the real part and b is the imaginary part.\n",
    "bool: Represents binary values, either True or False.\n",
    "These fundamental data types serve as the building blocks for more complex data structures and operations."
   ]
  },
  {
   "cell_type": "markdown",
   "id": "ce6c4c5b-b4cc-4323-8142-2ad46689d65b",
   "metadata": {},
   "source": [
    "# Examples of Data types"
   ]
  },
  {
   "cell_type": "markdown",
   "id": "7b7db317-8e69-4b2f-a1a5-65621fc915d6",
   "metadata": {},
   "source": [
    "1.int\n",
    "Definition: Represents whole numbers (both positive and negative, including zero) without any fractional part.\n"
   ]
  },
  {
   "cell_type": "code",
   "execution_count": 8,
   "id": "4fec5447-0221-41e0-811e-03893f610413",
   "metadata": {},
   "outputs": [
    {
     "name": "stdout",
     "output_type": "stream",
     "text": [
      "5\n",
      "-3\n",
      "0\n",
      "100\n",
      "-25\n",
      "42\n",
      "-1000\n",
      "256\n",
      "789\n",
      "-76\n"
     ]
    }
   ],
   "source": [
    "a = 5\n",
    "b = -3\n",
    "c = 0\n",
    "d = 100\n",
    "e = -25\n",
    "f = 42\n",
    "g = -1000\n",
    "h = 256\n",
    "i = 789\n",
    "j = -76\n",
    "\n",
    "print(a)  \n",
    "print(b)  \n",
    "print(c)  \n",
    "print(d)  \n",
    "print(e)  \n",
    "print(f)  \n",
    "print(g)  \n",
    "print(h)  \n",
    "print(i)  \n",
    "print(j)  \n"
   ]
  },
  {
   "cell_type": "markdown",
   "id": "8969dffc-0c0c-47c0-a3d7-a79e8cd3ad98",
   "metadata": {},
   "source": [
    "2. float\n",
    "Definition: Represents numbers that have a fractional part (decimal numbers)."
   ]
  },
  {
   "cell_type": "code",
   "execution_count": 7,
   "id": "ae58565d-6156-4c85-a4f0-b7904b05e8ba",
   "metadata": {},
   "outputs": [
    {
     "name": "stdout",
     "output_type": "stream",
     "text": [
      "3.14\n",
      "-0.001\n",
      "2.0\n",
      "-5.67\n",
      "0.0\n",
      "99.99\n",
      "-42.42\n",
      "123.456\n",
      "-987.65\n",
      "7.89\n"
     ]
    }
   ],
   "source": [
    "a = 3.14\n",
    "b = -0.001\n",
    "c = 2.0\n",
    "d = -5.67\n",
    "e = 0.0\n",
    "f = 99.99\n",
    "g = -42.42\n",
    "h = 123.456\n",
    "i = -987.65\n",
    "j = 7.89\n",
    "\n",
    "print(a)  \n",
    "print(b)  \n",
    "print(c)  \n",
    "print(d)  \n",
    "print(e)  \n",
    "print(f)  \n",
    "print(g)  \n",
    "print(h)  \n",
    "print(i)  \n",
    "print(j)  "
   ]
  },
  {
   "cell_type": "markdown",
   "id": "e14115f7-5f53-42d5-9150-06e00d6dfa75",
   "metadata": {},
   "source": [
    "3. complex\n",
    "Definition: Represents numbers with both a real part and an imaginary part, expressed as a + bj."
   ]
  },
  {
   "cell_type": "code",
   "execution_count": 6,
   "id": "d0552451-efb3-4155-a16d-2d4d73c742ad",
   "metadata": {},
   "outputs": [
    {
     "name": "stdout",
     "output_type": "stream",
     "text": [
      "(3+4j)\n",
      "(1-2j)\n",
      "(-5+3j)\n",
      "0j\n",
      "(7.5-2.1j)\n",
      "(-3.2+8j)\n",
      "(9+0j)\n",
      "(-7-6j)\n",
      "(4-0.5j)\n",
      "2j\n"
     ]
    }
   ],
   "source": [
    "a = 3 + 4j\n",
    "b = 1 - 2j\n",
    "c = -5 + 3j\n",
    "d = 0 + 0j\n",
    "e = 7.5 - 2.1j\n",
    "f = -3.2 + 8j\n",
    "g = 9 + 0j\n",
    "h = -7 - 6j\n",
    "i = 4 - 0.5j\n",
    "j = 0 + 2j\n",
    "\n",
    "print(a) \n",
    "print(b)  \n",
    "print(c)  \n",
    "print(d)  \n",
    "print(e)  \n",
    "print(f)  \n",
    "print(g)  \n",
    "print(h)  \n",
    "print(i)  \n",
    "print(j)  \n"
   ]
  },
  {
   "cell_type": "markdown",
   "id": "65868c34-f394-41c0-9bec-b321ad1f5d4e",
   "metadata": {},
   "source": [
    "4.bool\n",
    "Definition: Represents a binary value, either True or False."
   ]
  },
  {
   "cell_type": "code",
   "execution_count": 5,
   "id": "30a60ad5-bcb2-429f-924e-67d7e1c46807",
   "metadata": {},
   "outputs": [
    {
     "name": "stdout",
     "output_type": "stream",
     "text": [
      "True\n",
      "False\n",
      "True\n",
      "False\n",
      "True\n",
      "True\n",
      "True\n",
      "True\n"
     ]
    }
   ],
   "source": [
    "print(5 > 3)        \n",
    "print(True and False)  \n",
    "print(True or False)   \n",
    "print(not True)        \n",
    "print(10 == 10)       \n",
    "print(10 != 5)         \n",
    "print(3 in [1, 2, 3])  \n",
    "print(4 not in [1, 2, 3])  "
   ]
  },
  {
   "cell_type": "code",
   "execution_count": null,
   "id": "c47b319d-325a-4c0d-b5c3-5e7e23a31a32",
   "metadata": {},
   "outputs": [],
   "source": []
  }
 ],
 "metadata": {
  "kernelspec": {
   "display_name": "Python 3 (ipykernel)",
   "language": "python",
   "name": "python3"
  },
  "language_info": {
   "codemirror_mode": {
    "name": "ipython",
    "version": 3
   },
   "file_extension": ".py",
   "mimetype": "text/x-python",
   "name": "python",
   "nbconvert_exporter": "python",
   "pygments_lexer": "ipython3",
   "version": "3.12.2"
  }
 },
 "nbformat": 4,
 "nbformat_minor": 5
}
