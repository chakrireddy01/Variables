{
 "cells": [
  {
   "cell_type": "markdown",
   "id": "9bdcd84d-f4b3-4df3-b3fa-f670bbaf4eb3",
   "metadata": {},
   "source": [
    "# Python variables"
   ]
  },
  {
   "cell_type": "markdown",
   "id": "b3dfde9d-7886-40c6-a274-e54f1e452020",
   "metadata": {},
   "source": [
    "# what is a variable?"
   ]
  },
  {
   "cell_type": "markdown",
   "id": "4bd28adf-f259-4a00-b1a0-9d238829daa8",
   "metadata": {},
   "source": [
    "Variable (in Python): A variable is a named storage location in memory that holds a value. The value stored in a variable can be of any data type, such as integers, floats, strings, lists, or objects. Variables are used to reference and manipulate data throughout a Python program."
   ]
  },
  {
   "cell_type": "markdown",
   "id": "b756d48b-2cd0-4757-aaa0-54e9e75e0326",
   "metadata": {},
   "source": [
    "# How to create a variable?"
   ]
  },
  {
   "cell_type": "markdown",
   "id": "c566be6d-5e57-43d0-a9d2-5878fc638a8e",
   "metadata": {},
   "source": [
    "In Python, a variable is a symbolic name that is used to refer to a value stored in memory. Think of it as a label that you attach to a specific piece of data so you can use it and manipulate it throughout your program."
   ]
  },
  {
   "cell_type": "code",
   "execution_count": 1,
   "id": "b5db273d-4a7c-4823-af80-b19c628c468e",
   "metadata": {},
   "outputs": [
    {
     "name": "stdout",
     "output_type": "stream",
     "text": [
      "15\n"
     ]
    }
   ],
   "source": [
    "# Assigning a value to a variable\n",
    "x = 5\n",
    "\n",
    "# Using the variable in an expression\n",
    "y = x + 10\n",
    "\n",
    "# Printing the value of the variable\n",
    "print(y)  # Output: 15\n"
   ]
  },
  {
   "cell_type": "markdown",
   "id": "adebbe5d-c4bf-4197-9521-c84e684798a5",
   "metadata": {},
   "source": [
    "# Rules"
   ]
  },
  {
   "cell_type": "markdown",
   "id": "709b8831-cf6e-4606-90df-872c992a511d",
   "metadata": {},
   "source": [
    "Naming Rules:\n",
    "Start with a letter or an underscore (_): \n",
    "Variable names cannot start with a number or special characters (other than _).\n",
    "Can contain letters, numbers, and underscores: After the first character, numbers can be included in variable names.\n",
    "Case-sensitive: In most programming languages, variable, Variable, and VARIABLE would be considered three different variables.\n",
    "No spaces allowed: Use underscores (_) or camel case (e.g., myVariableName) to separate words.\n",
    "Avoid reserved keywords: Do not use keywords that are reserved by the programming language (e.g., class, if, while)."
   ]
  },
  {
   "cell_type": "markdown",
   "id": "5015982a-aacb-456f-8b60-4075cb12895d",
   "metadata": {},
   "source": [
    "# Valid variables"
   ]
  },
  {
   "cell_type": "markdown",
   "id": "e4b78a9e-551c-4c9e-bdb0-d469c66591e0",
   "metadata": {},
   "source": [
    "1. username\n",
    "2.total_amount\n",
    "3._index\n",
    "4. age\n",
    "5.user2\n",
    "6.MAX_VALUE\n",
    "7. is logged in\n",
    "8.employee_salary\n",
    "9. current temperature\n",
    "10.user_address"
   ]
  },
  {
   "cell_type": "markdown",
   "id": "6f8d219a-179a-4a35-bd2c-3a8d0ede8100",
   "metadata": {},
   "source": [
    "# Invalid variables"
   ]
  },
  {
   "cell_type": "code",
   "execution_count": null,
   "id": "1f675e00-fc82-421a-9cf9-2272674367e0",
   "metadata": {},
   "outputs": [],
   "source": [
    "1.2ndUser (starts with a number)\n",
    "2. total-amount (contains a hyphen)\n",
    "3. first name (contains a space)\n",
    "4.user@name (contains a special character '@')\n",
    "5. class (reserved keyword in many programming languages)\n",
    "6. my-variable (contains a hyphen)\n",
    "7. %Total (contains a special character '%')\n",
    "8. import (reserved keyword in many programming languages)\n",
    "9. if (reserved keyword in many programming languages)\n",
    "10. void (reserved keyword in many programming languages)"
   ]
  }
 ],
 "metadata": {
  "kernelspec": {
   "display_name": "Python 3 (ipykernel)",
   "language": "python",
   "name": "python3"
  },
  "language_info": {
   "codemirror_mode": {
    "name": "ipython",
    "version": 3
   },
   "file_extension": ".py",
   "mimetype": "text/x-python",
   "name": "python",
   "nbconvert_exporter": "python",
   "pygments_lexer": "ipython3",
   "version": "3.12.2"
  }
 },
 "nbformat": 4,
 "nbformat_minor": 5
}
