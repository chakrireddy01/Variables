{
 "cells": [
  {
   "cell_type": "markdown",
   "id": "d03f018a-b894-404b-9c97-4f35adab257d",
   "metadata": {},
   "source": [
    "# What is python?\n"
   ]
  },
  {
   "cell_type": "markdown",
   "id": "57f7738b-1d19-41b1-8fa0-b9a12854564c",
   "metadata": {},
   "source": [
    "Python is a high-level, interpreted programming language known for its simplicity and readability. It was created by Guido van Rossum and first released in 1991. Python emphasizes code readability with its use of significant indentation, which makes it a popular choice for both beginners and experienced developers."
   ]
  },
  {
   "cell_type": "markdown",
   "id": "20f39b1d-9a9f-4ec1-a168-2e9d133a08a5",
   "metadata": {},
   "source": [
    "# History of Python?\n"
   ]
  },
  {
   "cell_type": "markdown",
   "id": "925c545a-f75a-4670-b28c-08e93fabb2bb",
   "metadata": {},
   "source": [
    "Creation and Early Releases (1990s): Python was created by Guido van Rossum and first released in January 1994. It was designed to be a readable and straightforward language, improving on the ABC language.\n",
    "\n",
    "Major Overhaul with Python 3.0 (2008): Python 3.0, released in December 2008, introduced significant changes to the language to address design flaws and improve consistency, though it is not backward compatible with Python 2.x.\n",
    "\n",
    "End-of-Life for Python 2 (2020): Python 2 reached its end-of-life on January 1, 2020, transitioning the Python community fully to Python 3.x, which continues to evolve with new features and improvements.\n",
    "\n",
    "\n",
    "\n",
    "\n"
   ]
  },
  {
   "cell_type": "markdown",
   "id": "407181e7-1afb-415e-a99f-19a858b3f3fa",
   "metadata": {},
   "source": [
    "# Python features?\n"
   ]
  },
  {
   "cell_type": "markdown",
   "id": "ca7a291e-a890-4f8c-b18c-8182e87b0cb7",
   "metadata": {},
   "source": [
    "Readability and Simplicity: Python's clear and easy-to-understand syntax makes it beginner-friendly and ensures code is maintainable.\n",
    "\n",
    "Extensive Standard Library: Python comes with a rich set of built-in modules and packages for various tasks, reducing the need for additional libraries.\n",
    "\n",
    "Dynamic Typing and Interpreted Nature: Python is dynamically typed and executed line by line, allowing for flexible coding and interactive debugging."
   ]
  },
  {
   "cell_type": "markdown",
   "id": "02725883-3a42-4a3d-af4f-f27b7059c301",
   "metadata": {},
   "source": [
    "# Applications of Python"
   ]
  },
  {
   "cell_type": "markdown",
   "id": "76ae65e6-5c5c-4809-b2b3-ed0a613dd59a",
   "metadata": {},
   "source": [
    "Web Development: Python is used with frameworks like Django and Flask to build dynamic websites and web applications.\n",
    "Data Science and Machine Learning: Libraries such as pandas, NumPy, and scikit-learn make Python ideal for data analysis, statistical modeling, and machine learning.\n",
    "Automation and Scripting: Python is commonly used for automating repetitive tasks and writing scripts to streamline workflows."
   ]
  },
  {
   "cell_type": "markdown",
   "id": "bafce592-978d-4f8c-9c0f-083ba95cb339",
   "metadata": {},
   "source": [
    "# Advantages and Disadvantages of Python?\n",
    "\n",
    "\n"
   ]
  },
  {
   "cell_type": "markdown",
   "id": "c0a0649a-fe68-4a26-ae2d-8e5d514c755c",
   "metadata": {},
   "source": [
    "Advantages:\n",
    "\n",
    "Readability and Simplicity: Python's syntax is clean and easy to read, which makes it accessible for beginners and improves code maintainability.\n",
    "Extensive Libraries and Community Support: A large standard library and active community provide robust resources and tools for various applications.\n",
    "Disadvantages:\n",
    "\n",
    "Performance: Python is generally slower than compiled languages like C++ or Java due to its interpreted nature.\n",
    "Global Interpreter Lock (GIL): The GIL can be a bottleneck in multi-threaded applications, affecting performance in CPU-bound tasks."
   ]
  },
  {
   "cell_type": "markdown",
   "id": "7b5028a4-edad-47fb-8417-66f92db04ca1",
   "metadata": {},
   "source": [
    "# Python First Program?"
   ]
  },
  {
   "cell_type": "code",
   "execution_count": 1,
   "id": "5f588b93-0c99-43f0-a4ab-41fabf6fe4fa",
   "metadata": {},
   "outputs": [
    {
     "name": "stdout",
     "output_type": "stream",
     "text": [
      "Hello, World!\n"
     ]
    }
   ],
   "source": [
    "print(\"Hello, World!\")\n"
   ]
  },
  {
   "cell_type": "markdown",
   "id": "4a10fdf6-8f0a-4b35-a169-e6770cb1101d",
   "metadata": {},
   "source": [
    "# Explain about comments?"
   ]
  },
  {
   "cell_type": "code",
   "execution_count": 2,
   "id": "aa59b9dc-a594-4fa2-b6e3-b47a25833b2f",
   "metadata": {},
   "outputs": [
    {
     "name": "stdout",
     "output_type": "stream",
     "text": [
      "Hello, World!\n"
     ]
    }
   ],
   "source": [
    "# This is a single-line comment\n",
    "print(\"Hello, World!\")\n"
   ]
  },
  {
   "cell_type": "markdown",
   "id": "e9ac2daf-e9fb-438c-bef7-77245095fdc4",
   "metadata": {},
   "source": [
    "# What is keywords?"
   ]
  },
  {
   "cell_type": "markdown",
   "id": "5d06d277-4798-46d5-8afd-c3a63943f99a",
   "metadata": {},
   "source": [
    "Definition: Keywords are reserved words in Python that have special meanings and cannot be used as identifiers (variable names, function names, etc.).\n",
    "Examples: Some common keywords include if, for, while, def, return, and import. They control the flow of the program or define its structure."
   ]
  },
  {
   "cell_type": "markdown",
   "id": "0b5bda1b-51e6-4d65-babe-c1df30adb0cd",
   "metadata": {},
   "source": [
    "# Python variables ?"
   ]
  },
  {
   "cell_type": "markdown",
   "id": "a56b92d9-31e7-464b-a72c-ac673addb578",
   "metadata": {},
   "source": [
    "1. Python variables are the reserved memory locations used to store values within a Python program\n",
    "2. This means that when you create a variable you reserve some space in the memory\n",
    "3. Variables are the containers for storing data values\n"
   ]
  },
  {
   "cell_type": "code",
   "execution_count": 1,
   "id": "a11c7961-547b-4157-8883-0f4a78dfa830",
   "metadata": {},
   "outputs": [
    {
     "name": "stdout",
     "output_type": "stream",
     "text": [
      "10\n"
     ]
    }
   ],
   "source": [
    "# Creating a Variable \n",
    "\n",
    "a = 10\n",
    "print(a)\n",
    "# where 'a' is variable and it is store a value '10' by assign in it"
   ]
  },
  {
   "cell_type": "code",
   "execution_count": 2,
   "id": "67ee8017-4b6e-46a6-a09f-39837d81b2ee",
   "metadata": {},
   "outputs": [],
   "source": [
    "#valid Variables\n",
    "var = 1678\n",
    "var_3 = 'reddy'\n",
    "_var = 'Welcome to data science course'\n"
   ]
  },
  {
   "cell_type": "code",
   "execution_count": 3,
   "id": "fc0784d8-b5ca-4083-a9f7-2e4769beedd3",
   "metadata": {},
   "outputs": [
    {
     "name": "stdout",
     "output_type": "stream",
     "text": [
      "1678\n"
     ]
    }
   ],
   "source": [
    "print(var)\n"
   ]
  },
  {
   "cell_type": "code",
   "execution_count": 4,
   "id": "0dadda6f-a5f1-49fa-817a-4d4cd8e24a44",
   "metadata": {},
   "outputs": [
    {
     "name": "stdout",
     "output_type": "stream",
     "text": [
      "reddy\n"
     ]
    }
   ],
   "source": [
    "print(var_3)\n"
   ]
  },
  {
   "cell_type": "code",
   "execution_count": 5,
   "id": "eaba5406-e634-4e51-a6fc-53c7d07a81eb",
   "metadata": {},
   "outputs": [
    {
     "ename": "SyntaxError",
     "evalue": "invalid decimal literal (723539157.py, line 2)",
     "output_type": "error",
     "traceback": [
      "\u001b[1;36m  Cell \u001b[1;32mIn[5], line 2\u001b[1;36m\u001b[0m\n\u001b[1;33m    1_var = 68\u001b[0m\n\u001b[1;37m     ^\u001b[0m\n\u001b[1;31mSyntaxError\u001b[0m\u001b[1;31m:\u001b[0m invalid decimal literal\n"
     ]
    }
   ],
   "source": [
    "#invalid variables \n",
    "1_var = 68\n",
    "@var = 'Data'\n",
    "for = 'python'"
   ]
  },
  {
   "cell_type": "code",
   "execution_count": null,
   "id": "4d6f1a1d-3416-4e39-bd20-ea69013e15e6",
   "metadata": {},
   "outputs": [],
   "source": []
  }
 ],
 "metadata": {
  "kernelspec": {
   "display_name": "Python 3 (ipykernel)",
   "language": "python",
   "name": "python3"
  },
  "language_info": {
   "codemirror_mode": {
    "name": "ipython",
    "version": 3
   },
   "file_extension": ".py",
   "mimetype": "text/x-python",
   "name": "python",
   "nbconvert_exporter": "python",
   "pygments_lexer": "ipython3",
   "version": "3.12.2"
  }
 },
 "nbformat": 4,
 "nbformat_minor": 5
}
